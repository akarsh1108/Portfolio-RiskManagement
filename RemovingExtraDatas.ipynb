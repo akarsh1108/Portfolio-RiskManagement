{
  "nbformat": 4,
  "nbformat_minor": 0,
  "metadata": {
    "colab": {
      "provenance": []
    },
    "kernelspec": {
      "name": "python3",
      "display_name": "Python 3"
    },
    "language_info": {
      "name": "python"
    }
  },
  "cells": [
    {
      "cell_type": "code",
      "execution_count": null,
      "metadata": {
        "id": "b0qXJkKHwi3q"
      },
      "outputs": [],
      "source": [
        "import numpy as np\n",
        "import pandas as pd"
      ]
    },
    {
      "cell_type": "code",
      "source": [
        "dataset1=pd.read_csv('AUTO_U.csv')\n",
        "d1=np.array(dataset1)\n",
        "print(d1)"
      ],
      "metadata": {
        "colab": {
          "base_uri": "https://localhost:8080/"
        },
        "id": "CIHtGeU9001v",
        "outputId": "5c78b2e0-6a24-4c10-8be1-b600227af7f5"
      },
      "execution_count": null,
      "outputs": [
        {
          "output_type": "stream",
          "name": "stdout",
          "text": [
            "[[0 '2018-01-01' 12029.45 ... 11890.5 -1.155081903162661\n",
            "  1.1685799587906371]\n",
            " [1 '2018-01-02' 11970.2 ... 11927.15 -0.3596431137324446\n",
            "  0.3072821252352795]\n",
            " [2 '2018-01-03' 11972.6 ... 11866.8 -0.8836844127424377\n",
            "  -0.5085617015539182]\n",
            " ...\n",
            " [1225 '2022-12-13' 12921.5 ... 12931.0 0.073520876059281\n",
            "  0.4380945015853347]\n",
            " [1226 '2022-12-14' 12977.4 ... 13004.1 0.2057422904433918\n",
            "  0.56213040502611]\n",
            " [1227 '2022-12-15' 13000.35 ... 12912.9 -0.672674197233157\n",
            "  -0.7062704737123399]]\n"
          ]
        }
      ]
    },
    {
      "cell_type": "code",
      "source": [
        "dataset2=pd.read_csv('CNXIT_U.csv')\n",
        "d2=np.array(dataset2)\n",
        "print(d2)"
      ],
      "metadata": {
        "colab": {
          "base_uri": "https://localhost:8080/"
        },
        "id": "hClREKyI2xjj",
        "outputId": "10843704-0a63-4a75-ba65-1e1455b954f3"
      },
      "execution_count": null,
      "outputs": [
        {
          "output_type": "stream",
          "name": "stdout",
          "text": [
            "[[0 '2018-01-02' 11587.849609375 ... 11602.349609375 0.1251310682205347\n",
            "  -0.1249746860608681]\n",
            " [1 '2018-01-03' 11617.349609375 ... 11586.7001953125 -0.2638244960603273\n",
            "  -0.1350635970440583]\n",
            " [2 '2018-01-04' 11599.0498046875 ... 11590.7998046875\n",
            "  -0.0711265158691356 0.0353695124070907]\n",
            " ...\n",
            " [1225 '2022-12-28' 28495.75 ... 28583.44921875 0.3077624514181939\n",
            "  -0.1847250163754347]\n",
            " [1226 '2022-12-29' 28408.30078125 ... 28687.19921875 0.9817498049164493\n",
            "  0.3616595653304099]\n",
            " [1227 '2022-12-30' 28887.80078125 ... 28621.69921875 -0.9211554888342924\n",
            "  -0.2288473493463698]]\n"
          ]
        }
      ]
    },
    {
      "cell_type": "code",
      "source": [
        "dataset3=pd.read_csv('INFRA_U.csv')\n",
        "d3=np.array(dataset3)\n",
        "print(d3)"
      ],
      "metadata": {
        "colab": {
          "base_uri": "https://localhost:8080/"
        },
        "id": "-Bi0UgTG22Ft",
        "outputId": "637ce09c-be78-411f-ffb2-c368ff379a24"
      },
      "execution_count": null,
      "outputs": [
        {
          "output_type": "stream",
          "name": "stdout",
          "text": [
            "[[0 '2018-01-01' 3642.8 ... 3636.65 -0.1688261776655345\n",
            "  0.1691116824550116]\n",
            " [1 '2018-01-02' 3659.35 ... 3622.35 -1.0111085302034517\n",
            "  -0.394771350090416]\n",
            " [2 '2018-01-03' 3637.1 ... 3656.0 0.5196447719336859 0.9204048140043788]\n",
            " ...\n",
            " [1236 '2022-12-28' 5268.75 ... 5264.65 -0.0778173190984648\n",
            "  -0.1946948040230594]\n",
            " [1237 '2022-12-29' 5244.65 ... 5267.5 0.4356820760203325\n",
            "  0.0541053630754696]\n",
            " [1238 '2022-12-30' 5283.9 ... 5252.1 -0.6018281950831635\n",
            "  -0.2932160469145605]]\n"
          ]
        }
      ]
    },
    {
      "cell_type": "code",
      "source": [
        "dataset4=pd.read_csv('NIFTYBANK_U.csv')\n",
        "d4=np.array(dataset4)\n",
        "print(d4)"
      ],
      "metadata": {
        "colab": {
          "base_uri": "https://localhost:8080/"
        },
        "id": "N5DQ_5bq2-ww",
        "outputId": "3a5f0131-8523-4995-da55-76e0b217c57b"
      },
      "execution_count": null,
      "outputs": [
        {
          "output_type": "stream",
          "name": "stdout",
          "text": [
            "[[0 '2018-01-01' 25565.75 ... 25318.1 -0.9686787987835344\n",
            "  0.9781539688997244]\n",
            " [1 '2018-01-02' 25382.2 ... 25338.25 -0.1731528393913873\n",
            "  0.0795240397422926]\n",
            " [2 '2018-01-03' 25425.75 ... 25318.6 -0.4214231635251722\n",
            "  -0.0776109263545435]\n",
            " ...\n",
            " [1235 '2022-12-28' 42733.6 ... 42827.7 0.2202014340004084\n",
            "  -0.0742510104441819]\n",
            " [1236 '2022-12-29' 42684.9 ... 43252.35 1.3293928297828903\n",
            "  0.9817963648217992]\n",
            " [1237 '2022-12-30' 43401.7 ... 42986.45 -0.9567597582583172\n",
            "  -0.6185670135589272]]\n"
          ]
        }
      ]
    },
    {
      "cell_type": "code",
      "source": [
        "dataset5=pd.read_csv('NIFTYENERGY_U.csv')\n",
        "d5=np.array(dataset5)\n",
        "print(d5)"
      ],
      "metadata": {
        "colab": {
          "base_uri": "https://localhost:8080/"
        },
        "id": "9HkgjGnB3BTY",
        "outputId": "79a7c37a-4d2a-493a-c6b7-2e1253fb681f"
      },
      "execution_count": null,
      "outputs": [
        {
          "output_type": "stream",
          "name": "stdout",
          "text": [
            "[[0 '2018-01-01' 14266.25 ... 14138.95 -0.8923157802505863\n",
            "  0.900349743085589]\n",
            " [1 '2018-01-02' 14216.0 ... 14162.4 -0.3770399549803064\n",
            "  0.1655792803479559]\n",
            " [2 '2018-01-03' 14294.35 ... 14157.8 -0.9552725377509372\n",
            "  -0.0324909237310907]\n",
            " ...\n",
            " [1236 '2022-12-28' 25583.05 ... 25725.35 0.5562276585473557\n",
            "  0.325165644004835]\n",
            " [1237 '2022-12-29' 25566.05 ... 25863.6 1.1638481501835414\n",
            "  0.5345350221933528]\n",
            " [1238 '2022-12-30' 25984.5 ... 25869.85 -0.4412245761896571\n",
            "  0.024159397909149]]\n"
          ]
        }
      ]
    },
    {
      "cell_type": "code",
      "source": [
        "dataset6=pd.read_csv('NIFTYMETAL_U.csv')\n",
        "d6=np.array(dataset6)\n",
        "print(d6)"
      ],
      "metadata": {
        "colab": {
          "base_uri": "https://localhost:8080/"
        },
        "id": "xqsK0tcL3EYm",
        "outputId": "c6f69b18-c476-41da-9faf-cc3743242610"
      },
      "execution_count": null,
      "outputs": [
        {
          "output_type": "stream",
          "name": "stdout",
          "text": [
            "[[0 '2018-01-01' 3942.65 ... 3919.2 -0.5947776241867849\n",
            "  0.5983363951827022]\n",
            " [1 '2018-01-02' 3942.7 ... 3942.85 0.0038044994546907 0.5998199272100154]\n",
            " [2 '2018-01-03' 3965.7 ... 4000.2 0.8699599061956276 1.4336783160841935]\n",
            " ...\n",
            " [1236 '2022-12-28' 6611.1 ... 6615.75 0.0703362526659653\n",
            "  -0.2751010845331189]\n",
            " [1237 '2022-12-29' 6567.75 ... 6687.1 1.8172128963495924\n",
            "  1.0669797071974452]\n",
            " [1238 '2022-12-30' 6739.4 ... 6723.4 -0.2374098584443719\n",
            "  0.5399054050034101]]\n"
          ]
        }
      ]
    },
    {
      "cell_type": "code",
      "source": [
        "dataset7=pd.read_csv('NIFTYPSE_U.csv')\n",
        "d7=np.array(dataset7)\n",
        "print(d7)"
      ],
      "metadata": {
        "colab": {
          "base_uri": "https://localhost:8080/"
        },
        "id": "33_9ghzL3G_N",
        "outputId": "5ff5a5b7-5bca-413b-839f-853eb3def48b"
      },
      "execution_count": null,
      "outputs": [
        {
          "output_type": "stream",
          "name": "stdout",
          "text": [
            "[[0 '2018-01-01' 4308.15 ... 4296.05 -0.2808630154474532\n",
            "  0.2816540775828811]\n",
            " [1 '2018-01-02' 4324.75 ... 4307.15 -0.4069599398809264\n",
            "  0.2577110154046052]\n",
            " [2 '2018-01-03' 4322.85 ... 4302.1 -0.4800074025237978\n",
            "  -0.1173845331349636]\n",
            " ...\n",
            " [1236 '2022-12-28' 4312.05 ... 4330.5 0.4278707343374918\n",
            "  0.2274564138090374]\n",
            " [1237 '2022-12-29' 4304.95 ... 4334.9 0.6957107515766692\n",
            "  0.1015017647465832]\n",
            " [1238 '2022-12-30' 4352.45 ... 4367.0 0.3342944778228396\n",
            "  0.7350583924891313]]\n"
          ]
        }
      ]
    },
    {
      "cell_type": "code",
      "source": [
        "dataset8=pd.read_csv('NIFTY_U.csv')\n",
        "d8=np.array(dataset8)\n",
        "print(d8)"
      ],
      "metadata": {
        "colab": {
          "base_uri": "https://localhost:8080/"
        },
        "id": "IrE7ZfFP3J63",
        "outputId": "23f7269c-d8b0-49c6-87e4-d187ade12252"
      },
      "execution_count": null,
      "outputs": [
        {
          "output_type": "stream",
          "name": "stdout",
          "text": [
            "[[0 '2018-01-02' 10477.5498046875 ... 10442.2001953125\n",
            "  -0.3373843124962776 0.3385264476242055]\n",
            " [1 '2018-01-03' 10482.650390625 ... 10443.2001953125 -0.3763379855516471\n",
            "  0.0095756088296464]\n",
            " [2 '2018-01-04' 10469.400390625 ... 10504.7998046875 0.3381226502159474\n",
            "  0.586394891100283]\n",
            " ...\n",
            " [1235 '2023-01-05' 18101.94921875 ... 17992.150390625\n",
            "  -0.6065580385744889 -0.2823388367822295]\n",
            " [1236 '2023-01-06' 18008.05078125 ... 17859.44921875 -0.8251951546845042\n",
            "  -0.7430305954546558]\n",
            " [1237 '2023-01-09' 17952.55078125 ... 18101.19921875 0.8280073361789422\n",
            "  1.3355468722181951]]\n"
          ]
        }
      ]
    },
    {
      "cell_type": "code",
      "source": [
        "dataset9=pd.read_csv('PHARMA_U.csv')\n",
        "d9=np.array(dataset9)\n",
        "print(d9)"
      ],
      "metadata": {
        "colab": {
          "base_uri": "https://localhost:8080/"
        },
        "id": "Y-MctbnL3NcJ",
        "outputId": "dbd8336e-d8cf-4176-9852-1c678d9f29f4"
      },
      "execution_count": null,
      "outputs": [
        {
          "output_type": "stream",
          "name": "stdout",
          "text": [
            "[[0 '2018-01-01' 9627.4 ... 9618.15 -0.0960799385088393 0.096172340834783]\n",
            " [1 '2018-01-02' 9662.2 ... 9565.8 -0.9977023866200394\n",
            "  -0.5472621213071606]\n",
            " [2 '2018-01-03' 9585.65 ... 9519.55 -0.6895724337942691\n",
            "  -0.4858422929655289]\n",
            " ...\n",
            " [1236 '2022-12-28' 12685.55 ... 12624.15 -0.4840152772248711\n",
            "  -0.5592455729692721]\n",
            " [1237 '2022-12-29' 12646.85 ... 12634.3 -0.0992341966576743\n",
            "  0.0803368607679067]\n",
            " [1238 '2022-12-30' 12699.85 ... 12597.6 -0.8051276196175546\n",
            "  -0.2913253318092249]]\n"
          ]
        }
      ]
    },
    {
      "cell_type": "code",
      "source": [
        "from functools import reduce\n",
        "I = reduce(\n",
        "    lambda l,r: np.intersect1d(l,r,True),\n",
        "    (i[:,1] for i in (d1,d2,d3,d4,d5,d6,d7,d8,d9)))"
      ],
      "metadata": {
        "id": "qfAHQe_M39GA"
      },
      "execution_count": null,
      "outputs": []
    },
    {
      "cell_type": "code",
      "source": [
        "d11=d1[np.searchsorted(d1[:,1], I)]\n",
        "pd.DataFrame(d11).to_csv('AUTO_U.csv', index=False)    "
      ],
      "metadata": {
        "id": "K_eKSr934udO"
      },
      "execution_count": null,
      "outputs": []
    },
    {
      "cell_type": "code",
      "source": [
        "d12=d2[np.searchsorted(d2[:,1], I)]\n",
        "pd.DataFrame(d12).to_csv('CNXIT_U.csv', index=False)  "
      ],
      "metadata": {
        "id": "7JuX4kWM5hSS"
      },
      "execution_count": null,
      "outputs": []
    },
    {
      "cell_type": "code",
      "source": [
        "d13=d3[np.searchsorted(d3[:,1], I)]\n",
        "pd.DataFrame(d13).to_csv('INFRA_U.csv' ,index=False)  "
      ],
      "metadata": {
        "id": "1JNYbN_G5rkU"
      },
      "execution_count": null,
      "outputs": []
    },
    {
      "cell_type": "code",
      "source": [
        "d14=d4[np.searchsorted(d4[:,1], I)]\n",
        "pd.DataFrame(d14).to_csv('NIFTYBANK_U.csv' ,index=False)  "
      ],
      "metadata": {
        "id": "ZSz8I8nW5yFm"
      },
      "execution_count": null,
      "outputs": []
    },
    {
      "cell_type": "code",
      "source": [
        "d15=d5[np.searchsorted(d5[:,1], I)]\n",
        "pd.DataFrame(d15).to_csv('NIFTYENERGY_U.csv', index=False)  "
      ],
      "metadata": {
        "id": "TQ5FFbPK56kr"
      },
      "execution_count": null,
      "outputs": []
    },
    {
      "cell_type": "code",
      "source": [
        "d16=d6[np.searchsorted(d6[:,1], I)]\n",
        "pd.DataFrame(d16).to_csv('NIFTYMETAL_U.csv', index=False)  "
      ],
      "metadata": {
        "id": "TspBgLaY6Btz"
      },
      "execution_count": null,
      "outputs": []
    },
    {
      "cell_type": "code",
      "source": [
        "d17=d7[np.searchsorted(d7[:,1], I)]\n",
        "pd.DataFrame(d17).to_csv('NIFTYPSE_U.csv', index=False) "
      ],
      "metadata": {
        "id": "IrKQyFlg6H_X"
      },
      "execution_count": null,
      "outputs": []
    },
    {
      "cell_type": "code",
      "source": [
        "d18=d8[np.searchsorted(d8[:,1], I)]\n",
        "pd.DataFrame(d18).to_csv('NIFTY_U.csv', index=False) "
      ],
      "metadata": {
        "id": "ejxmrWVL6Sez"
      },
      "execution_count": null,
      "outputs": []
    },
    {
      "cell_type": "code",
      "source": [
        "d19=d9[np.searchsorted(d9[:,1], I)]\n",
        "pd.DataFrame(d19).to_csv('PHARMA_U.csv', index=False) "
      ],
      "metadata": {
        "id": "AP8F7w2e6XZ-"
      },
      "execution_count": null,
      "outputs": []
    },
    {
      "cell_type": "code",
      "source": [
        "val='AUTO_U.csv'"
      ],
      "metadata": {
        "id": "_fQ2DSS8aWqx"
      },
      "execution_count": null,
      "outputs": []
    },
    {
      "cell_type": "code",
      "source": [
        "dataset3 = pd.read_csv(val)\n",
        "dataset3 = dataset3.drop(['0'], axis=1)"
      ],
      "metadata": {
        "id": "Zg1YmVTIZEqb"
      },
      "execution_count": null,
      "outputs": []
    },
    {
      "cell_type": "code",
      "source": [
        "dataset3.to_csv(val)"
      ],
      "metadata": {
        "id": "AX5y2mAUaMLD"
      },
      "execution_count": null,
      "outputs": []
    },
    {
      "cell_type": "code",
      "source": [],
      "metadata": {
        "id": "RGdNDyq_aTX8"
      },
      "execution_count": null,
      "outputs": []
    }
  ]
}