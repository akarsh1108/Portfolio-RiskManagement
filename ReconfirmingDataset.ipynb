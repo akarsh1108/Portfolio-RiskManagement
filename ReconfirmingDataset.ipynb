{
  "nbformat": 4,
  "nbformat_minor": 0,
  "metadata": {
    "colab": {
      "provenance": []
    },
    "kernelspec": {
      "name": "python3",
      "display_name": "Python 3"
    },
    "language_info": {
      "name": "python"
    }
  },
  "cells": [
    {
      "cell_type": "code",
      "execution_count": 1,
      "metadata": {
        "id": "tSHrzREIqJ1D"
      },
      "outputs": [],
      "source": [
        "import numpy as np\n",
        "import matplotlib as plt\n",
        "import pandas as pd"
      ]
    },
    {
      "cell_type": "code",
      "source": [
        "cols= ['AUTO_U.csv','CNXIT_U.csv','INFRA_U.csv','NIFTYBANK_U.csv','NIFTYENERGY_U.csv','NIFTYMETAL_U.csv','NIFTY_U.csv','PHARMA_U.csv']"
      ],
      "metadata": {
        "id": "Ol_e9mZHrNPQ"
      },
      "execution_count": 2,
      "outputs": []
    },
    {
      "cell_type": "code",
      "source": [
        "dataset =[]\n",
        "f=True\n",
        "for i in cols:\n",
        "  dataf = pd.read_csv(i)\n",
        "  df = np.array(dataf)\n",
        "  for j in cols:\n",
        "    dataf1=pd.read_csv(j)\n",
        "    df1 = np.array(dataf1)\n",
        "    for k in df[:,1]:\n",
        "      if k in df1[:,1]:\n",
        "        continue\n",
        "      else:\n",
        "        f=False\n",
        "                     "
      ],
      "metadata": {
        "id": "rbCCMzZnsGo2"
      },
      "execution_count": 8,
      "outputs": []
    },
    {
      "cell_type": "code",
      "source": [
        "print(f)"
      ],
      "metadata": {
        "colab": {
          "base_uri": "https://localhost:8080/"
        },
        "id": "5KCikz7_uZTK",
        "outputId": "c0bd59f8-01df-4841-f44f-2b85c2fbfbdd"
      },
      "execution_count": 9,
      "outputs": [
        {
          "output_type": "stream",
          "name": "stdout",
          "text": [
            "True\n"
          ]
        }
      ]
    }
  ]
}