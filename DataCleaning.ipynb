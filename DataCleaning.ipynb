{
  "nbformat": 4,
  "nbformat_minor": 0,
  "metadata": {
    "colab": {
      "provenance": []
    },
    "kernelspec": {
      "name": "python3",
      "display_name": "Python 3"
    },
    "language_info": {
      "name": "python"
    }
  },
  "cells": [
    {
      "cell_type": "markdown",
      "source": [
        "Header files"
      ],
      "metadata": {
        "id": "d3y5RKycM3Qu"
      }
    },
    {
      "cell_type": "code",
      "source": [
        "import numpy as np\n",
        "import matplotlib.pyplot as plt\n",
        "import pandas as pd"
      ],
      "metadata": {
        "id": "O8mnlEioUW08"
      },
      "execution_count": null,
      "outputs": []
    },
    {
      "cell_type": "code",
      "source": [
        "val='PUBLICENTERPRISE.csv'"
      ],
      "metadata": {
        "id": "tlMoVUM1Ga5C"
      },
      "execution_count": null,
      "outputs": []
    },
    {
      "cell_type": "code",
      "source": [
        "dataset = pd.read_csv(val)\n",
        "dataset = dataset.drop(['Turnover','Volume'], axis=1)"
      ],
      "metadata": {
        "id": "IhDRU0CHZXER"
      },
      "execution_count": null,
      "outputs": []
    },
    {
      "cell_type": "code",
      "source": [
        "print(dataset['Close'])"
      ],
      "metadata": {
        "id": "JNY-kbNyZg7n",
        "colab": {
          "base_uri": "https://localhost:8080/"
        },
        "outputId": "6894a47b-5a8f-4292-ea4e-d05c7fb2c78e"
      },
      "execution_count": null,
      "outputs": [
        {
          "output_type": "stream",
          "name": "stdout",
          "text": [
            "0       25318.10\n",
            "1       25338.25\n",
            "2       25318.60\n",
            "3       25462.60\n",
            "4       25601.85\n",
            "          ...   \n",
            "1233    42630.15\n",
            "1234    42859.50\n",
            "1235    42827.70\n",
            "1236    43252.35\n",
            "1237    42986.45\n",
            "Name: Close, Length: 1238, dtype: float64\n"
          ]
        }
      ]
    },
    {
      "cell_type": "code",
      "source": [
        "dataset['%Cchange'] = ((dataset['Close']-dataset['Open'])/dataset['Open'])*100;\n",
        "dataset.to_csv(val)"
      ],
      "metadata": {
        "id": "mS_2BCEhaZkp"
      },
      "execution_count": null,
      "outputs": []
    },
    {
      "cell_type": "code",
      "source": [
        "print(dataset)"
      ],
      "metadata": {
        "id": "wL4jBamqbScj",
        "colab": {
          "base_uri": "https://localhost:8080/"
        },
        "outputId": "550dddf9-269b-4adb-8e57-fc25a905c632"
      },
      "execution_count": null,
      "outputs": [
        {
          "output_type": "stream",
          "name": "stdout",
          "text": [
            "            Date      Open      High       Low     Close  %Cchange\n",
            "0     2018-01-01  25565.75  25588.00  25271.55  25318.10 -0.968679\n",
            "1     2018-01-02  25382.20  25425.50  25232.80  25338.25 -0.173153\n",
            "2     2018-01-03  25425.75  25454.90  25300.90  25318.60 -0.421423\n",
            "3     2018-01-04  25367.65  25490.35  25310.30  25462.60  0.374296\n",
            "4     2018-01-05  25524.45  25643.35  25499.55  25601.85  0.303239\n",
            "...          ...       ...       ...       ...       ...       ...\n",
            "1233  2022-12-26  41716.35  42846.15  41569.45  42630.15  2.190508\n",
            "1234  2022-12-27  42827.75  42927.20  42394.15  42859.50  0.074134\n",
            "1235  2022-12-28  42733.60  43034.95  42694.85  42827.70  0.220201\n",
            "1236  2022-12-29  42684.90  43498.05  42489.80  43252.35  1.329393\n",
            "1237  2022-12-30  43401.70  43422.95  42833.10  42986.45 -0.956760\n",
            "\n",
            "[1238 rows x 6 columns]\n"
          ]
        }
      ]
    },
    {
      "cell_type": "code",
      "source": [
        "dataset['%Pchange'] = ((dataset['Close'].diff())/dataset['Close'])*100;\n",
        "f_closeC = dataset.iloc[:, -3].values\n",
        "f_closeP = dataset.iloc[:, -2].values\n",
        "f_close = (f_closeC[0]+f_closeC[0]*(f_closeP[0]/100));\n",
        "CX = ((f_closeC[0]-f_close)/f_close)*100\n",
        "dataset.loc[0,'%Pchange'] = str(CX)\n",
        "dataset.to_csv(val)"
      ],
      "metadata": {
        "id": "fAdO8kGvpvfO"
      },
      "execution_count": null,
      "outputs": []
    },
    {
      "cell_type": "code",
      "source": [
        "print (dataset)"
      ],
      "metadata": {
        "id": "U3JF3r4xBgUZ",
        "colab": {
          "base_uri": "https://localhost:8080/"
        },
        "outputId": "b6079621-ee9b-4efb-894d-7585321d3485"
      },
      "execution_count": null,
      "outputs": [
        {
          "output_type": "stream",
          "name": "stdout",
          "text": [
            "            Date      Open      High       Low     Close  %Cchange  \\\n",
            "0     2018-01-01  25565.75  25588.00  25271.55  25318.10 -0.968679   \n",
            "1     2018-01-02  25382.20  25425.50  25232.80  25338.25 -0.173153   \n",
            "2     2018-01-03  25425.75  25454.90  25300.90  25318.60 -0.421423   \n",
            "3     2018-01-04  25367.65  25490.35  25310.30  25462.60  0.374296   \n",
            "4     2018-01-05  25524.45  25643.35  25499.55  25601.85  0.303239   \n",
            "...          ...       ...       ...       ...       ...       ...   \n",
            "1233  2022-12-26  41716.35  42846.15  41569.45  42630.15  2.190508   \n",
            "1234  2022-12-27  42827.75  42927.20  42394.15  42859.50  0.074134   \n",
            "1235  2022-12-28  42733.60  43034.95  42694.85  42827.70  0.220201   \n",
            "1236  2022-12-29  42684.90  43498.05  42489.80  43252.35  1.329393   \n",
            "1237  2022-12-30  43401.70  43422.95  42833.10  42986.45 -0.956760   \n",
            "\n",
            "                %Pchange  \n",
            "0     0.9781539688997245  \n",
            "1               0.079524  \n",
            "2              -0.077611  \n",
            "3               0.565535  \n",
            "4               0.543906  \n",
            "...                  ...  \n",
            "1233            2.256853  \n",
            "1234            0.535121  \n",
            "1235           -0.074251  \n",
            "1236            0.981796  \n",
            "1237           -0.618567  \n",
            "\n",
            "[1238 rows x 7 columns]\n"
          ]
        }
      ]
    }
  ]
}